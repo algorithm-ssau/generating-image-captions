{
 "cells": [
  {
   "cell_type": "code",
   "execution_count": 2,
   "outputs": [],
   "source": [
    "import json\n",
    "import requests\n",
    "import time\n",
    "import pandas as pd"
   ],
   "metadata": {
    "collapsed": false,
    "pycharm": {
     "name": "#%%\n"
    }
   }
  },
  {
   "cell_type": "code",
   "execution_count": 1,
   "outputs": [],
   "source": [
    "path_dataset = \"D:/datasets/flickr-30k-images\"\n",
    "path_captions = \"D:/YandexDisk/datasets/flickr-30k-images-metadata.csv\"\n",
    "path_prepared_captions = \"D:/flickr-30k-images-metadata.csv\""
   ],
   "metadata": {
    "collapsed": false,
    "pycharm": {
     "name": "#%%\n"
    }
   }
  },
  {
   "cell_type": "code",
   "execution_count": 3,
   "outputs": [
    {
     "data": {
      "text/plain": "       image_name   comment_number  \\\n0  1000092795.jpg                0   \n1  1000092795.jpg                1   \n2  1000092795.jpg                2   \n3  1000092795.jpg                3   \n4  1000092795.jpg                4   \n\n                                             comment  \n0  Two young guys with shaggy hair look at their ...  \n1  Two young, white males are outside near many b...  \n2     Two men in green shirts are standing in a yard  \n3         A man in a blue shirt standing in a garden  \n4              Two friends enjoy time spent together  ",
      "text/html": "<div>\n<style scoped>\n    .dataframe tbody tr th:only-of-type {\n        vertical-align: middle;\n    }\n\n    .dataframe tbody tr th {\n        vertical-align: top;\n    }\n\n    .dataframe thead th {\n        text-align: right;\n    }\n</style>\n<table border=\"1\" class=\"dataframe\">\n  <thead>\n    <tr style=\"text-align: right;\">\n      <th></th>\n      <th>image_name</th>\n      <th>comment_number</th>\n      <th>comment</th>\n    </tr>\n  </thead>\n  <tbody>\n    <tr>\n      <th>0</th>\n      <td>1000092795.jpg</td>\n      <td>0</td>\n      <td>Two young guys with shaggy hair look at their ...</td>\n    </tr>\n    <tr>\n      <th>1</th>\n      <td>1000092795.jpg</td>\n      <td>1</td>\n      <td>Two young, white males are outside near many b...</td>\n    </tr>\n    <tr>\n      <th>2</th>\n      <td>1000092795.jpg</td>\n      <td>2</td>\n      <td>Two men in green shirts are standing in a yard</td>\n    </tr>\n    <tr>\n      <th>3</th>\n      <td>1000092795.jpg</td>\n      <td>3</td>\n      <td>A man in a blue shirt standing in a garden</td>\n    </tr>\n    <tr>\n      <th>4</th>\n      <td>1000092795.jpg</td>\n      <td>4</td>\n      <td>Two friends enjoy time spent together</td>\n    </tr>\n  </tbody>\n</table>\n</div>"
     },
     "execution_count": 3,
     "metadata": {},
     "output_type": "execute_result"
    }
   ],
   "source": [
    "df_captions = pd.read_csv(path_captions, delimiter='|')\n",
    "df_captions.head(5)"
   ],
   "metadata": {
    "collapsed": false,
    "pycharm": {
     "name": "#%%\n"
    }
   }
  },
  {
   "cell_type": "markdown",
   "source": [
    "## Перевод\n",
    "\n",
    "Квоты — организационные ограничения, которые можно изменить по запросу в техническую поддержку.\n",
    "Лимиты — технические ограничения, обусловленные особенностями архитектуры Yandex.Cloud. Изменение лимитов невозможно.\n",
    "\n",
    "Yandex Translate. Квоты (4 апреля 2021):\n",
    "Вызовов одного метода API в секунду – 20\n",
    "Символов, отправленных на перевод, в час – 1 млн"
   ],
   "metadata": {
    "collapsed": false
   }
  },
  {
   "cell_type": "code",
   "execution_count": 134,
   "outputs": [],
   "source": [
    "IAM_TOKEN = \"_____\"\n",
    "FOLDER_ID = \"_____\"\n",
    "\n",
    "BEARER = \"Bearer \" + IAM_TOKEN\n",
    "HEADERS = {\n",
    "    \"Content-type\": \"application/json\",\n",
    "    \"Authorization\": BEARER\n",
    "}\n",
    "\n",
    "def translate_with_yandex(text):\n",
    "    data = {\n",
    "        \"folder_id\": FOLDER_ID,\n",
    "        \"texts\": text,\n",
    "        \"targetLanguageCode\": \"ru\"\n",
    "    }\n",
    "\n",
    "    response = requests.post('https://translate.api.cloud.yandex.net/translate/v2/translate', headers=HEADERS, data=str(data).encode('utf-8'))\n",
    "    json_text = json.loads(response.text)\n",
    "\n",
    "    return json_text[\"translations\"][0][\"text\"]"
   ],
   "metadata": {
    "collapsed": false,
    "pycharm": {
     "name": "#%%\n"
    }
   }
  },
  {
   "cell_type": "markdown",
   "source": [
    "## Выбрать по миллиону символов\n",
    "\n",
    "(1) 0 -- 16460\n",
    "(2) 16461 -- 33234\n",
    "(3) 33235 -- 50124\n",
    "(4) 50125 -- 67337\n",
    "(5) 67338 -- 80713"
   ],
   "metadata": {
    "collapsed": false
   }
  },
  {
   "cell_type": "code",
   "execution_count": 22,
   "outputs": [
    {
     "data": {
      "text/plain": "image_name                                             998845445.jpg\n comment_number                                                    4\n comment           A man on a moored blue and white boat with hil...\nName: 153909, dtype: object"
     },
     "execution_count": 22,
     "metadata": {},
     "output_type": "execute_result"
    }
   ],
   "source": [
    "df_captions.iloc[-1]"
   ],
   "metadata": {
    "collapsed": false,
    "pycharm": {
     "name": "#%%\n"
    }
   }
  },
  {
   "cell_type": "code",
   "execution_count": 23,
   "outputs": [
    {
     "name": "stdout",
     "output_type": "stream",
     "text": [
      "33234\n",
      "1000103\n"
     ]
    }
   ],
   "source": [
    "count_chars = 0\n",
    "last_idx = -1\n",
    "\n",
    "\n",
    "for idx in range(16460+1, 153909+1):\n",
    "    count_chars += len(df_captions.iloc[idx, 2])\n",
    "    if count_chars > 1000000:\n",
    "        print(last_idx)\n",
    "        break\n",
    "    last_idx = idx\n",
    "\n",
    "print(count_chars)"
   ],
   "metadata": {
    "collapsed": false,
    "pycharm": {
     "name": "#%%\n"
    }
   }
  },
  {
   "cell_type": "code",
   "execution_count": 27,
   "outputs": [
    {
     "name": "stdout",
     "output_type": "stream",
     "text": [
      "33234\n",
      "999982\n"
     ]
    }
   ],
   "source": [
    "count_chars = 0\n",
    "last_idx = -1\n",
    "\n",
    "for idx in range(16460+1, 33234+1):\n",
    "    count_chars += len(df_captions.iloc[idx, 2])\n",
    "    last_idx = idx\n",
    "\n",
    "print(last_idx)\n",
    "print(count_chars)"
   ],
   "metadata": {
    "collapsed": false,
    "pycharm": {
     "name": "#%%\n"
    }
   }
  },
  {
   "cell_type": "markdown",
   "source": [
    "#### Первый миллион"
   ],
   "metadata": {
    "collapsed": false
   }
  },
  {
   "cell_type": "code",
   "execution_count": 18,
   "outputs": [
    {
     "data": {
      "text/plain": "(16460, 3)"
     },
     "execution_count": 18,
     "metadata": {},
     "output_type": "execute_result"
    }
   ],
   "source": [
    "df_captions_1 = df_captions[:16460]\n",
    "df_captions_1.shape"
   ],
   "metadata": {
    "collapsed": false,
    "pycharm": {
     "name": "#%%\n"
    }
   }
  },
  {
   "cell_type": "code",
   "execution_count": 19,
   "outputs": [],
   "source": [
    "df_captions_1.to_csv(\"D:/flickr-30k-images-metadata-1.csv\", sep='|', encoding='utf-8', index=False)"
   ],
   "metadata": {
    "collapsed": false,
    "pycharm": {
     "name": "#%%\n"
    }
   }
  },
  {
   "cell_type": "markdown",
   "source": [
    "#### Второй миллион"
   ],
   "metadata": {
    "collapsed": false
   }
  },
  {
   "cell_type": "code",
   "execution_count": 29,
   "outputs": [
    {
     "data": {
      "text/plain": "(16773, 3)"
     },
     "execution_count": 29,
     "metadata": {},
     "output_type": "execute_result"
    }
   ],
   "source": [
    "df_captions_2 = df_captions[16460+1:33234]\n",
    "df_captions_2.shape"
   ],
   "metadata": {
    "collapsed": false,
    "pycharm": {
     "name": "#%%\n"
    }
   }
  },
  {
   "cell_type": "code",
   "execution_count": 30,
   "outputs": [],
   "source": [
    "df_captions_2.to_csv(\"D:/flickr-30k-images-metadata-2.csv\", sep='|', encoding='utf-8', index=False)"
   ],
   "metadata": {
    "collapsed": false,
    "pycharm": {
     "name": "#%%\n"
    }
   }
  },
  {
   "cell_type": "markdown",
   "source": [
    "#### Третий миллион"
   ],
   "metadata": {
    "collapsed": false
   }
  },
  {
   "cell_type": "code",
   "execution_count": 40,
   "outputs": [
    {
     "data": {
      "text/plain": "(16889, 3)"
     },
     "execution_count": 40,
     "metadata": {},
     "output_type": "execute_result"
    }
   ],
   "source": [
    "df_captions_3 = df_captions[33235:50124]\n",
    "df_captions_3.shape"
   ],
   "metadata": {
    "collapsed": false,
    "pycharm": {
     "name": "#%%\n"
    }
   }
  },
  {
   "cell_type": "code",
   "execution_count": 41,
   "outputs": [],
   "source": [
    "df_captions_3.to_csv(\"D:/flickr-30k-images-metadata-3.csv\", sep='|', encoding='utf-8', index=False)"
   ],
   "metadata": {
    "collapsed": false,
    "pycharm": {
     "name": "#%%\n"
    }
   }
  },
  {
   "cell_type": "markdown",
   "source": [
    "#### Четвёртый миллион"
   ],
   "metadata": {
    "collapsed": false
   }
  },
  {
   "cell_type": "code",
   "execution_count": 54,
   "outputs": [
    {
     "data": {
      "text/plain": "(17212, 3)"
     },
     "execution_count": 54,
     "metadata": {},
     "output_type": "execute_result"
    }
   ],
   "source": [
    "df_captions_4 = df_captions[50125:67337]\n",
    "df_captions_4.shape"
   ],
   "metadata": {
    "collapsed": false,
    "pycharm": {
     "name": "#%%\n"
    }
   }
  },
  {
   "cell_type": "code",
   "execution_count": 56,
   "outputs": [],
   "source": [
    "df_captions_4.to_csv(\"D:/flickr-30k-images-metadata-4.csv\", sep='|', encoding='utf-8', index=False)"
   ],
   "metadata": {
    "collapsed": false,
    "pycharm": {
     "name": "#%%\n"
    }
   }
  },
  {
   "cell_type": "markdown",
   "source": [
    "#### Пятый миллион"
   ],
   "metadata": {
    "collapsed": false
   }
  },
  {
   "cell_type": "code",
   "execution_count": 7,
   "outputs": [
    {
     "data": {
      "text/plain": "(13375, 3)"
     },
     "execution_count": 7,
     "metadata": {},
     "output_type": "execute_result"
    }
   ],
   "source": [
    "df_captions_5 = df_captions[67338:80713]\n",
    "df_captions_5.shape"
   ],
   "metadata": {
    "collapsed": false,
    "pycharm": {
     "name": "#%%\n"
    }
   }
  },
  {
   "cell_type": "code",
   "execution_count": 8,
   "outputs": [],
   "source": [
    "df_captions_5.to_csv(\"D:/flickr-30k-images-metadata-5.csv\", sep='|', encoding='utf-8', index=False)"
   ],
   "metadata": {
    "collapsed": false,
    "pycharm": {
     "name": "#%%\n"
    }
   }
  },
  {
   "cell_type": "markdown",
   "source": [
    "## 20 запросов в секунду"
   ],
   "metadata": {
    "collapsed": false
   }
  },
  {
   "cell_type": "code",
   "execution_count": 31,
   "outputs": [],
   "source": [
    "def fake_translate(text):\n",
    "    return text[::-1]"
   ],
   "metadata": {
    "collapsed": false,
    "pycharm": {
     "name": "#%%\n"
    }
   }
  },
  {
   "cell_type": "code",
   "execution_count": 32,
   "outputs": [
    {
     "data": {
      "text/plain": "'тевирП'"
     },
     "execution_count": 32,
     "metadata": {},
     "output_type": "execute_result"
    }
   ],
   "source": [
    "fake_translate(\"Привет\")"
   ],
   "metadata": {
    "collapsed": false,
    "pycharm": {
     "name": "#%%\n"
    }
   }
  },
  {
   "cell_type": "code",
   "execution_count": 108,
   "outputs": [
    {
     "data": {
      "text/plain": "(153910, 3)"
     },
     "execution_count": 108,
     "metadata": {},
     "output_type": "execute_result"
    }
   ],
   "source": [
    "df_for_fake = pd.read_csv(\"D:/YandexDisk/datasets/flickr-30k-images-metadata-for-fake.csv\", delimiter='|')\n",
    "df_for_fake.shape"
   ],
   "metadata": {
    "collapsed": false,
    "pycharm": {
     "name": "#%%\n"
    }
   }
  },
  {
   "cell_type": "code",
   "execution_count": 110,
   "outputs": [
    {
     "data": {
      "text/plain": "       image_name   comment_number  \\\n0  1000092795.jpg                0   \n1  1000092795.jpg                1   \n2  1000092795.jpg                2   \n3  1000092795.jpg                3   \n4  1000092795.jpg                4   \n5    10002456.jpg                0   \n\n                                             comment  \n0  Two young guys with shaggy hair look at their ...  \n1  Two young, white males are outside near many b...  \n2     Two men in green shirts are standing in a yard  \n3         A man in a blue shirt standing in a garden  \n4              Two friends enjoy time spent together  \n5  Several men in hard hats are operating a giant...  ",
      "text/html": "<div>\n<style scoped>\n    .dataframe tbody tr th:only-of-type {\n        vertical-align: middle;\n    }\n\n    .dataframe tbody tr th {\n        vertical-align: top;\n    }\n\n    .dataframe thead th {\n        text-align: right;\n    }\n</style>\n<table border=\"1\" class=\"dataframe\">\n  <thead>\n    <tr style=\"text-align: right;\">\n      <th></th>\n      <th>image_name</th>\n      <th>comment_number</th>\n      <th>comment</th>\n    </tr>\n  </thead>\n  <tbody>\n    <tr>\n      <th>0</th>\n      <td>1000092795.jpg</td>\n      <td>0</td>\n      <td>Two young guys with shaggy hair look at their ...</td>\n    </tr>\n    <tr>\n      <th>1</th>\n      <td>1000092795.jpg</td>\n      <td>1</td>\n      <td>Two young, white males are outside near many b...</td>\n    </tr>\n    <tr>\n      <th>2</th>\n      <td>1000092795.jpg</td>\n      <td>2</td>\n      <td>Two men in green shirts are standing in a yard</td>\n    </tr>\n    <tr>\n      <th>3</th>\n      <td>1000092795.jpg</td>\n      <td>3</td>\n      <td>A man in a blue shirt standing in a garden</td>\n    </tr>\n    <tr>\n      <th>4</th>\n      <td>1000092795.jpg</td>\n      <td>4</td>\n      <td>Two friends enjoy time spent together</td>\n    </tr>\n    <tr>\n      <th>5</th>\n      <td>10002456.jpg</td>\n      <td>0</td>\n      <td>Several men in hard hats are operating a giant...</td>\n    </tr>\n  </tbody>\n</table>\n</div>"
     },
     "execution_count": 110,
     "metadata": {},
     "output_type": "execute_result"
    }
   ],
   "source": [
    "df_for_fake.head(6)"
   ],
   "metadata": {
    "collapsed": false,
    "pycharm": {
     "name": "#%%\n"
    }
   }
  },
  {
   "cell_type": "code",
   "execution_count": 124,
   "outputs": [],
   "source": [
    "def fake_requesting():\n",
    "    start_idx = 0\n",
    "\n",
    "    for idx in range(20, 16460+1, 20):\n",
    "        start_time = time.time()\n",
    "\n",
    "        df_for_twenty = df_for_fake[start_idx:idx]\n",
    "        start_idx = idx\n",
    "\n",
    "        for idx_for_twenty in df_for_twenty.index:\n",
    "            df_for_twenty.at[idx_for_twenty, \" comment\"] = fake_translate(df_for_twenty.at[idx_for_twenty, \" comment\"])\n",
    "\n",
    "        time_difference = time.time() - start_time\n",
    "\n",
    "        if time_difference < 1.0:\n",
    "            time.sleep(1.1 - time_difference)"
   ],
   "metadata": {
    "collapsed": false,
    "pycharm": {
     "name": "#%%\n"
    }
   }
  },
  {
   "cell_type": "code",
   "execution_count": 113,
   "outputs": [
    {
     "name": "stdout",
     "output_type": "stream",
     "text": [
      "Wall time: 15min 11s\n"
     ]
    }
   ],
   "source": [
    "%%time\n",
    "fake_requesting()"
   ],
   "metadata": {
    "collapsed": false,
    "pycharm": {
     "name": "#%%\n"
    }
   }
  },
  {
   "cell_type": "code",
   "execution_count": 135,
   "outputs": [
    {
     "data": {
      "text/plain": "'облако'"
     },
     "execution_count": 135,
     "metadata": {},
     "output_type": "execute_result"
    }
   ],
   "source": [
    "translate_with_yandex(\"cloud\")"
   ],
   "metadata": {
    "collapsed": false,
    "pycharm": {
     "name": "#%%\n"
    }
   }
  },
  {
   "cell_type": "markdown",
   "source": [
    "## Перевести первый миллион символов"
   ],
   "metadata": {
    "collapsed": false,
    "pycharm": {
     "name": "#%% md\n"
    }
   }
  },
  {
   "cell_type": "code",
   "execution_count": 132,
   "outputs": [
    {
     "data": {
      "text/plain": "       image_name   comment_number  \\\n0  1000092795.jpg                0   \n1  1000092795.jpg                1   \n2  1000092795.jpg                2   \n3  1000092795.jpg                3   \n4  1000092795.jpg                4   \n\n                                             comment  \n0  Two young guys with shaggy hair look at their ...  \n1  Two young, white males are outside near many b...  \n2     Two men in green shirts are standing in a yard  \n3         A man in a blue shirt standing in a garden  \n4              Two friends enjoy time spent together  ",
      "text/html": "<div>\n<style scoped>\n    .dataframe tbody tr th:only-of-type {\n        vertical-align: middle;\n    }\n\n    .dataframe tbody tr th {\n        vertical-align: top;\n    }\n\n    .dataframe thead th {\n        text-align: right;\n    }\n</style>\n<table border=\"1\" class=\"dataframe\">\n  <thead>\n    <tr style=\"text-align: right;\">\n      <th></th>\n      <th>image_name</th>\n      <th>comment_number</th>\n      <th>comment</th>\n    </tr>\n  </thead>\n  <tbody>\n    <tr>\n      <th>0</th>\n      <td>1000092795.jpg</td>\n      <td>0</td>\n      <td>Two young guys with shaggy hair look at their ...</td>\n    </tr>\n    <tr>\n      <th>1</th>\n      <td>1000092795.jpg</td>\n      <td>1</td>\n      <td>Two young, white males are outside near many b...</td>\n    </tr>\n    <tr>\n      <th>2</th>\n      <td>1000092795.jpg</td>\n      <td>2</td>\n      <td>Two men in green shirts are standing in a yard</td>\n    </tr>\n    <tr>\n      <th>3</th>\n      <td>1000092795.jpg</td>\n      <td>3</td>\n      <td>A man in a blue shirt standing in a garden</td>\n    </tr>\n    <tr>\n      <th>4</th>\n      <td>1000092795.jpg</td>\n      <td>4</td>\n      <td>Two friends enjoy time spent together</td>\n    </tr>\n  </tbody>\n</table>\n</div>"
     },
     "execution_count": 132,
     "metadata": {},
     "output_type": "execute_result"
    }
   ],
   "source": [
    "df1 = pd.read_csv(\"D:/YandexDisk/datasets/flickr-30k-images-metadata-1.csv\", delimiter='|')\n",
    "df1.head(5)"
   ],
   "metadata": {
    "collapsed": false,
    "pycharm": {
     "name": "#%%\n"
    }
   }
  },
  {
   "cell_type": "code",
   "execution_count": 21,
   "outputs": [],
   "source": [
    "def request_yandex_translate(data, col_name, start_index, end_index):\n",
    "    start = start_index\n",
    "    count_iters = 0\n",
    "\n",
    "    for idx in range(start_index, end_index+1, 20):\n",
    "        start_time = time.time()\n",
    "\n",
    "        df_twenty = data[start:idx]\n",
    "        start = idx\n",
    "\n",
    "        for idx_twenty in df_twenty.index:\n",
    "            df_twenty.at[idx_twenty, col_name] = translate_with_yandex(df_twenty.at[idx_twenty, col_name])\n",
    "\n",
    "        count_iters += 20\n",
    "        if count_iters > 999:\n",
    "            data.to_csv(\"D:/temp.csv\", sep='|', encoding='utf-8', index=False)\n",
    "            count_iters = 0\n",
    "\n",
    "        time_difference = time.time() - start_time\n",
    "\n",
    "        if time_difference < 1.0:\n",
    "            time.sleep(1.01 - time_difference)"
   ],
   "metadata": {
    "collapsed": false,
    "pycharm": {
     "name": "#%%\n"
    }
   }
  },
  {
   "cell_type": "code",
   "execution_count": 14,
   "outputs": [
    {
     "name": "stdout",
     "output_type": "stream",
     "text": [
      "Wall time: 1min 7s\n"
     ]
    }
   ],
   "source": [
    "%%time\n",
    "request_yandex_translate()"
   ],
   "metadata": {
    "collapsed": false,
    "pycharm": {
     "name": "#%%\n"
    }
   }
  },
  {
   "cell_type": "markdown",
   "source": [
    "## Перевести второй миллион символов"
   ],
   "metadata": {
    "collapsed": false,
    "pycharm": {
     "name": "#%% md\n"
    }
   }
  },
  {
   "cell_type": "code",
   "execution_count": 30,
   "outputs": [
    {
     "data": {
      "text/plain": "           image_name   comment_number  \\\n16768  2547366477.jpg                4   \n16769  2547785434.jpg                0   \n16770  2547785434.jpg                1   \n16771  2547785434.jpg                2   \n16772  2547785434.jpg                3   \n\n                                                 comment  \n16768                A man and two children at the beach  \n16769  A small and gray dog chases a large bull who i...  \n16770  A brown and white cow jumps away from a black ...  \n16771  A black and white dog is playing with a large ...  \n16772            A small dog chasing after a bucking cow  ",
      "text/html": "<div>\n<style scoped>\n    .dataframe tbody tr th:only-of-type {\n        vertical-align: middle;\n    }\n\n    .dataframe tbody tr th {\n        vertical-align: top;\n    }\n\n    .dataframe thead th {\n        text-align: right;\n    }\n</style>\n<table border=\"1\" class=\"dataframe\">\n  <thead>\n    <tr style=\"text-align: right;\">\n      <th></th>\n      <th>image_name</th>\n      <th>comment_number</th>\n      <th>comment</th>\n    </tr>\n  </thead>\n  <tbody>\n    <tr>\n      <th>16768</th>\n      <td>2547366477.jpg</td>\n      <td>4</td>\n      <td>A man and two children at the beach</td>\n    </tr>\n    <tr>\n      <th>16769</th>\n      <td>2547785434.jpg</td>\n      <td>0</td>\n      <td>A small and gray dog chases a large bull who i...</td>\n    </tr>\n    <tr>\n      <th>16770</th>\n      <td>2547785434.jpg</td>\n      <td>1</td>\n      <td>A brown and white cow jumps away from a black ...</td>\n    </tr>\n    <tr>\n      <th>16771</th>\n      <td>2547785434.jpg</td>\n      <td>2</td>\n      <td>A black and white dog is playing with a large ...</td>\n    </tr>\n    <tr>\n      <th>16772</th>\n      <td>2547785434.jpg</td>\n      <td>3</td>\n      <td>A small dog chasing after a bucking cow</td>\n    </tr>\n  </tbody>\n</table>\n</div>"
     },
     "execution_count": 30,
     "metadata": {},
     "output_type": "execute_result"
    }
   ],
   "source": [
    "df2 = pd.read_csv(\"D:/YandexDisk/datasets/flickr-30k-images-metadata-2.csv\", delimiter='|')\n",
    "df2.tail(5)"
   ],
   "metadata": {
    "collapsed": false,
    "pycharm": {
     "name": "#%%\n"
    }
   }
  },
  {
   "cell_type": "code",
   "execution_count": 31,
   "outputs": [
    {
     "name": "stdout",
     "output_type": "stream",
     "text": [
      "Wall time: 1h 43min 26s\n"
     ]
    }
   ],
   "source": [
    "%%time\n",
    "request_yandex_translate(df2, \" comment\", 0, 16772)"
   ],
   "metadata": {
    "collapsed": false,
    "pycharm": {
     "name": "#%%\n"
    }
   }
  },
  {
   "cell_type": "markdown",
   "source": [
    "## Перевести третий миллион символов"
   ],
   "metadata": {
    "collapsed": false,
    "pycharm": {
     "name": "#%% md\n"
    }
   }
  },
  {
   "cell_type": "code",
   "execution_count": 47,
   "outputs": [
    {
     "data": {
      "text/plain": "           image_name   comment_number  \\\n16884  2992217972.jpg                4   \n16885  2992226950.jpg                0   \n16886  2992226950.jpg                1   \n16887  2992226950.jpg                2   \n16888  2992226950.jpg                3   \n\n                                                 comment  \n16884              A man with tattoos at a costume party  \n16885  A man on a bicycle rides down a small street a...  \n16886  A poor looking man in a blue shirt is riding a...  \n16887  A green pull wagon is parked under a tree in a...  \n16888  A man bicycling through a street, followed by ...  ",
      "text/html": "<div>\n<style scoped>\n    .dataframe tbody tr th:only-of-type {\n        vertical-align: middle;\n    }\n\n    .dataframe tbody tr th {\n        vertical-align: top;\n    }\n\n    .dataframe thead th {\n        text-align: right;\n    }\n</style>\n<table border=\"1\" class=\"dataframe\">\n  <thead>\n    <tr style=\"text-align: right;\">\n      <th></th>\n      <th>image_name</th>\n      <th>comment_number</th>\n      <th>comment</th>\n    </tr>\n  </thead>\n  <tbody>\n    <tr>\n      <th>16884</th>\n      <td>2992217972.jpg</td>\n      <td>4</td>\n      <td>A man with tattoos at a costume party</td>\n    </tr>\n    <tr>\n      <th>16885</th>\n      <td>2992226950.jpg</td>\n      <td>0</td>\n      <td>A man on a bicycle rides down a small street a...</td>\n    </tr>\n    <tr>\n      <th>16886</th>\n      <td>2992226950.jpg</td>\n      <td>1</td>\n      <td>A poor looking man in a blue shirt is riding a...</td>\n    </tr>\n    <tr>\n      <th>16887</th>\n      <td>2992226950.jpg</td>\n      <td>2</td>\n      <td>A green pull wagon is parked under a tree in a...</td>\n    </tr>\n    <tr>\n      <th>16888</th>\n      <td>2992226950.jpg</td>\n      <td>3</td>\n      <td>A man bicycling through a street, followed by ...</td>\n    </tr>\n  </tbody>\n</table>\n</div>"
     },
     "execution_count": 47,
     "metadata": {},
     "output_type": "execute_result"
    }
   ],
   "source": [
    "df3 = pd.read_csv(\"D:/YandexDisk/datasets/flickr-30k-images-metadata-3.csv\", delimiter='|')\n",
    "df3.tail(5)"
   ],
   "metadata": {
    "collapsed": false,
    "pycharm": {
     "name": "#%%\n"
    }
   }
  },
  {
   "cell_type": "code",
   "execution_count": 48,
   "outputs": [
    {
     "name": "stdout",
     "output_type": "stream",
     "text": [
      "Wall time: 1h 33min 30s\n"
     ]
    }
   ],
   "source": [
    "%%time\n",
    "request_yandex_translate(df3, \" comment\", 0, 16880)"
   ],
   "metadata": {
    "collapsed": false,
    "pycharm": {
     "name": "#%%\n"
    }
   }
  },
  {
   "cell_type": "markdown",
   "source": [
    "## Перевести четвёртый миллион символов"
   ],
   "metadata": {
    "collapsed": false,
    "pycharm": {
     "name": "#%% md\n"
    }
   }
  },
  {
   "cell_type": "code",
   "execution_count": 59,
   "outputs": [
    {
     "data": {
      "text/plain": "           image_name   comment_number  \\\n17207  3398276602.jpg                2   \n17208  3398276602.jpg                3   \n17209  3398276602.jpg                4   \n17210  3398745929.jpg                0   \n17211  3398745929.jpg                1   \n\n                                                 comment  \n17207  A wheelchair bound person receiving a tip from...  \n17208      Elderly man in wheelchair begging for handout  \n17209                      A man donates to a panhandler  \n17210  Someone's legs are in frame running over a bea...  \n17211  A person is running across the beach at the wa...  ",
      "text/html": "<div>\n<style scoped>\n    .dataframe tbody tr th:only-of-type {\n        vertical-align: middle;\n    }\n\n    .dataframe tbody tr th {\n        vertical-align: top;\n    }\n\n    .dataframe thead th {\n        text-align: right;\n    }\n</style>\n<table border=\"1\" class=\"dataframe\">\n  <thead>\n    <tr style=\"text-align: right;\">\n      <th></th>\n      <th>image_name</th>\n      <th>comment_number</th>\n      <th>comment</th>\n    </tr>\n  </thead>\n  <tbody>\n    <tr>\n      <th>17207</th>\n      <td>3398276602.jpg</td>\n      <td>2</td>\n      <td>A wheelchair bound person receiving a tip from...</td>\n    </tr>\n    <tr>\n      <th>17208</th>\n      <td>3398276602.jpg</td>\n      <td>3</td>\n      <td>Elderly man in wheelchair begging for handout</td>\n    </tr>\n    <tr>\n      <th>17209</th>\n      <td>3398276602.jpg</td>\n      <td>4</td>\n      <td>A man donates to a panhandler</td>\n    </tr>\n    <tr>\n      <th>17210</th>\n      <td>3398745929.jpg</td>\n      <td>0</td>\n      <td>Someone's legs are in frame running over a bea...</td>\n    </tr>\n    <tr>\n      <th>17211</th>\n      <td>3398745929.jpg</td>\n      <td>1</td>\n      <td>A person is running across the beach at the wa...</td>\n    </tr>\n  </tbody>\n</table>\n</div>"
     },
     "execution_count": 59,
     "metadata": {},
     "output_type": "execute_result"
    }
   ],
   "source": [
    "df4 = pd.read_csv(\"D:/YandexDisk/datasets/flickr-30k-images-metadata-4.csv\", delimiter='|')\n",
    "df4.tail(5)"
   ],
   "metadata": {
    "collapsed": false,
    "pycharm": {
     "name": "#%%\n"
    }
   }
  },
  {
   "cell_type": "code",
   "execution_count": 60,
   "outputs": [
    {
     "name": "stdout",
     "output_type": "stream",
     "text": [
      "Wall time: 1h 57min 41s\n"
     ]
    }
   ],
   "source": [
    "%%time\n",
    "request_yandex_translate(df4, \" comment\", 0, 17200)"
   ],
   "metadata": {
    "collapsed": false,
    "pycharm": {
     "name": "#%%\n"
    }
   }
  },
  {
   "cell_type": "markdown",
   "source": [
    "## Перевести пятый миллион символов"
   ],
   "metadata": {
    "collapsed": false,
    "pycharm": {
     "name": "#%% md\n"
    }
   }
  },
  {
   "cell_type": "code",
   "execution_count": 9,
   "outputs": [
    {
     "data": {
      "text/plain": "           image_name   comment_number  \\\n13370  3707990914.jpg                3   \n13371  3707990914.jpg                4   \n13372  3708172446.jpg                0   \n13373  3708172446.jpg                1   \n13374  3708172446.jpg                2   \n\n                                                 comment  \n13370                A woman on a surfboard rides a wave  \n13371                            A surfer rides the wave  \n13372  Two men are sitting on a bench looking at a wa...  \n13373  Two men sit on a bench in front of a three tie...  \n13374  Two people sit on a park bench looking at a fo...  ",
      "text/html": "<div>\n<style scoped>\n    .dataframe tbody tr th:only-of-type {\n        vertical-align: middle;\n    }\n\n    .dataframe tbody tr th {\n        vertical-align: top;\n    }\n\n    .dataframe thead th {\n        text-align: right;\n    }\n</style>\n<table border=\"1\" class=\"dataframe\">\n  <thead>\n    <tr style=\"text-align: right;\">\n      <th></th>\n      <th>image_name</th>\n      <th>comment_number</th>\n      <th>comment</th>\n    </tr>\n  </thead>\n  <tbody>\n    <tr>\n      <th>13370</th>\n      <td>3707990914.jpg</td>\n      <td>3</td>\n      <td>A woman on a surfboard rides a wave</td>\n    </tr>\n    <tr>\n      <th>13371</th>\n      <td>3707990914.jpg</td>\n      <td>4</td>\n      <td>A surfer rides the wave</td>\n    </tr>\n    <tr>\n      <th>13372</th>\n      <td>3708172446.jpg</td>\n      <td>0</td>\n      <td>Two men are sitting on a bench looking at a wa...</td>\n    </tr>\n    <tr>\n      <th>13373</th>\n      <td>3708172446.jpg</td>\n      <td>1</td>\n      <td>Two men sit on a bench in front of a three tie...</td>\n    </tr>\n    <tr>\n      <th>13374</th>\n      <td>3708172446.jpg</td>\n      <td>2</td>\n      <td>Two people sit on a park bench looking at a fo...</td>\n    </tr>\n  </tbody>\n</table>\n</div>"
     },
     "execution_count": 9,
     "metadata": {},
     "output_type": "execute_result"
    }
   ],
   "source": [
    "df5 = pd.read_csv(\"D:/YandexDisk/datasets/flickr-30k-images-metadata-5.csv\", delimiter='|')\n",
    "df5.tail(5)"
   ],
   "metadata": {
    "collapsed": false,
    "pycharm": {
     "name": "#%%\n"
    }
   }
  },
  {
   "cell_type": "code",
   "execution_count": 16,
   "outputs": [
    {
     "name": "stdout",
     "output_type": "stream",
     "text": [
      "Wall time: 1h 30min 48s\n"
     ]
    }
   ],
   "source": [
    "%%time\n",
    "request_yandex_translate(df5, \" comment\", 0, 17200)"
   ],
   "metadata": {
    "collapsed": false,
    "pycharm": {
     "name": "#%%\n"
    }
   }
  },
  {
   "cell_type": "markdown",
   "source": [],
   "metadata": {
    "collapsed": false,
    "pycharm": {
     "name": "#%% md\n"
    }
   }
  },
  {
   "cell_type": "code",
   "execution_count": 49,
   "outputs": [],
   "source": [
    "df3.to_csv(\"D:/russian-flickr-30k-images-metadata-3.csv\", sep='|', encoding='utf-8', index=False)"
   ],
   "metadata": {
    "collapsed": false,
    "pycharm": {
     "name": "#%%\n"
    }
   }
  }
 ],
 "metadata": {
  "kernelspec": {
   "display_name": "Python 3",
   "language": "python",
   "name": "python3"
  },
  "language_info": {
   "codemirror_mode": {
    "name": "ipython",
    "version": 2
   },
   "file_extension": ".py",
   "mimetype": "text/x-python",
   "name": "python",
   "nbconvert_exporter": "python",
   "pygments_lexer": "ipython2",
   "version": "2.7.6"
  }
 },
 "nbformat": 4,
 "nbformat_minor": 0
}