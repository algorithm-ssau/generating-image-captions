{
 "cells": [
  {
   "cell_type": "code",
   "execution_count": 5,
   "metadata": {
    "collapsed": true
   },
   "outputs": [],
   "source": [
    "from pickle import load\n",
    "from numpy import argmax\n",
    "\n",
    "from tensorflow.python.keras.models import load_model\n",
    "from keras.applications.vgg16 import VGG16, preprocess_input\n",
    "from keras_preprocessing.image import load_img, img_to_array\n",
    "from keras_preprocessing.sequence import pad_sequences\n",
    "from keras.models import Model\n",
    "\n",
    "import matplotlib.pyplot as plt\n",
    "import matplotlib.image as mpimg\n",
    "\n",
    "import os\n",
    "os.environ['TF_CPP_MIN_LOG_LEVEL'] = '2'\n",
    "import tensorflow as tf"
   ]
  },
  {
   "cell_type": "code",
   "execution_count": 2,
   "outputs": [],
   "source": [
    "curr_folder = \"D:/YandexDisk/datasets/\"\n",
    "path_tokenizer = curr_folder + \"ru-12k-tokenizer-train.pkl\"\n",
    "tokenizer = load(open(path_tokenizer, 'rb'))\n",
    "max_words = 22\n",
    "\n",
    "m0 = \"D:/models/model-0.h5\"\n",
    "m1 = \"D:/models/model-1.h5\"\n",
    "m2 = \"D:/models/model-2.h5\"\n",
    "m3 = \"D:/models/model-3.h5\"\n",
    "m4 = \"D:/models/model-4.h5\"\n",
    "m5 = \"D:/models/model-5.h5\"\n",
    "m6 = \"D:/models/model-6.h5\"\n",
    "m7 = \"D:/models/model-7.h5\"\n",
    "m8 = \"D:/models/model-8.h5\"\n",
    "m9 = \"D:/models/model-9.h5\"\n",
    "m10 = \"D:/models/model-10.h5\"\n",
    "m11 = \"D:/models/model-11.h5\"\n",
    "m12 = \"D:/models/model-12.h5\"\n",
    "m13 = \"D:/models/model-13.h5\"\n",
    "m14 = \"D:/models/model-14.h5\"\n",
    "m15 = \"D:/models/model-15.h5\"\n",
    "m16 = \"D:/models/model-16.h5\"\n",
    "m17 = \"D:/models/model-17.h5\"\n",
    "m18 = \"D:/models/model-18.h5\"\n",
    "m19 = \"D:/models/model-19.h5\"\n",
    "\n",
    "all_models = [m0, m1, m2, m3, m4,\n",
    "              m5, m6, m7, m8, m9,\n",
    "              m10, m11, m12, m13, m14,\n",
    "              m15, m16, m17, m18, m19]"
   ],
   "metadata": {
    "collapsed": false,
    "pycharm": {
     "name": "#%%\n"
    }
   }
  },
  {
   "cell_type": "code",
   "execution_count": 3,
   "outputs": [],
   "source": [
    "def extract_features(path_image):\n",
    "    model = VGG16()\n",
    "    model = Model(inputs=model.inputs, outputs=model.layers[-2].output)\n",
    "\n",
    "    image = load_img(path_image, target_size=(224, 224))\n",
    "    image = img_to_array(image)\n",
    "    image = image.reshape((1, image.shape[0], image.shape[1], image.shape[2]))\n",
    "    image = preprocess_input(image)\n",
    "\n",
    "    feature = model.predict(image, verbose=0)\n",
    "\n",
    "    return feature\n",
    "\n",
    "def map_int_to_word(integer, tokenizer):\n",
    "    for word, idx in tokenizer.word_index.items():\n",
    "        if idx == integer:\n",
    "            return word\n",
    "\n",
    "    return None\n",
    "\n",
    "def generate_caption(model, tokenizer, max_words, image):\n",
    "    in_text = 'startseq'\n",
    "\n",
    "    for i in range(max_words):\n",
    "        seq = tokenizer.texts_to_sequences([in_text])[0]\n",
    "        seq = pad_sequences([seq], maxlen=max_words)\n",
    "\n",
    "        y_hat = model.predict([image,seq], verbose=0)\n",
    "        y_hat = argmax(y_hat)\n",
    "\n",
    "        word = map_int_to_word(y_hat, tokenizer)\n",
    "        if word is None:\n",
    "            break\n",
    "\n",
    "        in_text += ' ' + word\n",
    "\n",
    "        if word == 'endseq':\n",
    "            break\n",
    "\n",
    "    return in_text\n",
    "\n",
    "def print_image(path_image):\n",
    "    image = mpimg.imread(path_image)\n",
    "    plt.imshow(image)\n",
    "    plt.show()\n",
    "\n",
    "def print_image_with_caption(list_path_model, path_image):\n",
    "    print_image(path_image)\n",
    "    image = extract_features(path_image)\n",
    "\n",
    "    for i, path in enumerate(list_path_model):\n",
    "        model = load_model(path)\n",
    "        caption = generate_caption(model, tokenizer, max_words, image)\n",
    "        print(str(i) + ' ' + caption)"
   ],
   "metadata": {
    "collapsed": false,
    "pycharm": {
     "name": "#%%\n"
    }
   }
  }
 ],
 "metadata": {
  "kernelspec": {
   "display_name": "Python 3",
   "language": "python",
   "name": "python3"
  },
  "language_info": {
   "codemirror_mode": {
    "name": "ipython",
    "version": 2
   },
   "file_extension": ".py",
   "mimetype": "text/x-python",
   "name": "python",
   "nbconvert_exporter": "python",
   "pygments_lexer": "ipython2",
   "version": "2.7.6"
  }
 },
 "nbformat": 4,
 "nbformat_minor": 0
}