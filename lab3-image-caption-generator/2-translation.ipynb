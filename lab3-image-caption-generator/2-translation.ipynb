{
 "cells": [
  {
   "cell_type": "code",
   "execution_count": null,
   "outputs": [],
   "source": [
    "import json\n",
    "import requests"
   ],
   "metadata": {
    "collapsed": false,
    "pycharm": {
     "name": "#%%\n"
    }
   }
  },
  {
   "cell_type": "markdown",
   "source": [
    "## Перевод"
   ],
   "metadata": {
    "collapsed": false
   }
  },
  {
   "cell_type": "code",
   "execution_count": null,
   "outputs": [],
   "source": [
    "IAM_TOKEN = \"ВАШ ТОКЕН\"\n",
    "BEARER = \"Bearer \" + IAM_TOKEN\n",
    "FOLDER_ID = \"ВАШ КАТАЛОГ\"\n",
    "\n",
    "HEADERS = {\n",
    "    \"Content-type\": \"application/json\",\n",
    "    \"Authorization\": BEARER\n",
    "}\n",
    "\n",
    "def translate_with_yandex(text):\n",
    "    data = {\n",
    "        \"folder_id\": FOLDER_ID,\n",
    "        \"texts\": text,\n",
    "        \"targetLanguageCode\": \"ru\"\n",
    "    }\n",
    "\n",
    "    response = requests.post('https://translate.api.cloud.yandex.net/translate/v2/translate', headers=HEADERS, data=str(data))\n",
    "    json_text = json.loads(response.text)\n",
    "\n",
    "    return json_text[\"translations\"][0][\"text\"]"
   ],
   "metadata": {
    "collapsed": false,
    "pycharm": {
     "name": "#%%\n"
    }
   }
  },
  {
   "cell_type": "code",
   "execution_count": null,
   "outputs": [],
   "source": [
    "test = translate_with_yandex(\"to go away\")\n",
    "test"
   ],
   "metadata": {
    "collapsed": false,
    "pycharm": {
     "name": "#%%\n"
    }
   }
  }
 ],
 "metadata": {
  "kernelspec": {
   "display_name": "Python 3",
   "language": "python",
   "name": "python3"
  },
  "language_info": {
   "codemirror_mode": {
    "name": "ipython",
    "version": 2
   },
   "file_extension": ".py",
   "mimetype": "text/x-python",
   "name": "python",
   "nbconvert_exporter": "python",
   "pygments_lexer": "ipython2",
   "version": "2.7.6"
  }
 },
 "nbformat": 4,
 "nbformat_minor": 0
}