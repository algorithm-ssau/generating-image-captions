{
 "cells": [
  {
   "cell_type": "code",
   "execution_count": 21,
   "metadata": {
    "collapsed": true,
    "pycharm": {
     "name": "#%%\n"
    }
   },
   "outputs": [],
   "source": [
    "from pickle import load\n",
    "from numpy import argmax\n",
    "\n",
    "from keras.models import Model\n",
    "from tensorflow.python.keras.models import load_model\n",
    "from keras_preprocessing.image import load_img, img_to_array\n",
    "from keras_preprocessing.sequence import pad_sequences\n",
    "\n",
    "from keras.applications.inception_v3 import InceptionV3\n",
    "from keras.applications.vgg16 import VGG16\n",
    "from keras.applications.inception_v3 import preprocess_input as preprocess_input_i\n",
    "from keras.applications.vgg16 import preprocess_input as preprocess_input_v\n",
    "\n",
    "import matplotlib.pyplot as plt\n",
    "import matplotlib.image as mpimg\n",
    "\n",
    "import os\n",
    "os.environ['TF_CPP_MIN_LOG_LEVEL'] = '2'\n",
    "import tensorflow as tf"
   ]
  },
  {
   "cell_type": "code",
   "execution_count": 22,
   "outputs": [],
   "source": [
    "def map_int_to_word(integer, tokenizer):\n",
    "    for word, idx in tokenizer.word_index.items():\n",
    "        if idx == integer:\n",
    "            return word\n",
    "\n",
    "    return None\n",
    "\n",
    "def generate_caption(model, tokenizer, max_words, image):\n",
    "    in_text = 'startseq'\n",
    "\n",
    "    for i in range(max_words):\n",
    "        seq = tokenizer.texts_to_sequences([in_text])[0]\n",
    "        seq = pad_sequences([seq], maxlen=max_words)\n",
    "\n",
    "        y_hat = model.predict([image,seq], verbose=0)\n",
    "        y_hat = argmax(y_hat)\n",
    "\n",
    "        word = map_int_to_word(y_hat, tokenizer)\n",
    "        if word is None:\n",
    "            break\n",
    "\n",
    "        in_text += ' ' + word\n",
    "\n",
    "        if word == 'endseq':\n",
    "            break\n",
    "\n",
    "    return in_text\n",
    "\n",
    "def print_image(path_image):\n",
    "    image = mpimg.imread(path_image)\n",
    "    plt.imshow(image)\n",
    "    plt.show()\n",
    "\n",
    "def extract_features(path_image, extractor, target_size, model_type):\n",
    "    image = load_img(path_image, target_size=(target_size, target_size))\n",
    "    image = img_to_array(image)\n",
    "    image = image.reshape((1, image.shape[0], image.shape[1], image.shape[2]))\n",
    "    if model_type == \"vgg16\":\n",
    "        image = preprocess_input_v(image)\n",
    "    elif model_type == \"inception\":\n",
    "        image = preprocess_input_i(image)\n",
    "\n",
    "    feature = extractor.predict(image, verbose=0)\n",
    "\n",
    "    return feature\n",
    "\n",
    "def generate_and_print_captions(path_image, extractor, target_size, models_paths, model_type):\n",
    "    image_features = extract_features(path_image, extractor, target_size, model_type)\n",
    "\n",
    "    for i, path in enumerate(models_paths):\n",
    "        model = load_model(path)\n",
    "        caption = generate_caption(model, tokenizer, max_words, image_features)\n",
    "        print(str(i) + ' ' + caption)"
   ],
   "metadata": {
    "collapsed": false,
    "pycharm": {
     "name": "#%%\n"
    }
   }
  }
 ],
 "metadata": {
  "kernelspec": {
   "display_name": "Python 3",
   "language": "python",
   "name": "python3"
  },
  "language_info": {
   "codemirror_mode": {
    "name": "ipython",
    "version": 2
   },
   "file_extension": ".py",
   "mimetype": "text/x-python",
   "name": "python",
   "nbconvert_exporter": "python",
   "pygments_lexer": "ipython2",
   "version": "2.7.6"
  }
 },
 "nbformat": 4,
 "nbformat_minor": 0
}