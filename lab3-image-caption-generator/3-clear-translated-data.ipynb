{
 "cells": [
  {
   "cell_type": "code",
   "execution_count": 1,
   "metadata": {
    "collapsed": true
   },
   "outputs": [],
   "source": [
    "import pandas as pd"
   ]
  },
  {
   "cell_type": "code",
   "execution_count": 68,
   "outputs": [
    {
     "data": {
      "text/plain": "       image_name   comment_number  \\\n0  1000092795.jpg                0   \n1  1000092795.jpg                1   \n2  1000092795.jpg                2   \n3  1000092795.jpg                3   \n4  1000092795.jpg                4   \n\n                                             comment  \n0  Два молодых парня с лохматыми волосами смотрят...  \n1  Два молодых белых самца находятся снаружи возл...  \n2      Двое мужчин в зеленых рубашках стоят во дворе  \n3            Мужчина в синей рубашке, стоящий в саду  \n4  Два друга наслаждаются временем, проведенным в...  ",
      "text/html": "<div>\n<style scoped>\n    .dataframe tbody tr th:only-of-type {\n        vertical-align: middle;\n    }\n\n    .dataframe tbody tr th {\n        vertical-align: top;\n    }\n\n    .dataframe thead th {\n        text-align: right;\n    }\n</style>\n<table border=\"1\" class=\"dataframe\">\n  <thead>\n    <tr style=\"text-align: right;\">\n      <th></th>\n      <th>image_name</th>\n      <th>comment_number</th>\n      <th>comment</th>\n    </tr>\n  </thead>\n  <tbody>\n    <tr>\n      <th>0</th>\n      <td>1000092795.jpg</td>\n      <td>0</td>\n      <td>Два молодых парня с лохматыми волосами смотрят...</td>\n    </tr>\n    <tr>\n      <th>1</th>\n      <td>1000092795.jpg</td>\n      <td>1</td>\n      <td>Два молодых белых самца находятся снаружи возл...</td>\n    </tr>\n    <tr>\n      <th>2</th>\n      <td>1000092795.jpg</td>\n      <td>2</td>\n      <td>Двое мужчин в зеленых рубашках стоят во дворе</td>\n    </tr>\n    <tr>\n      <th>3</th>\n      <td>1000092795.jpg</td>\n      <td>3</td>\n      <td>Мужчина в синей рубашке, стоящий в саду</td>\n    </tr>\n    <tr>\n      <th>4</th>\n      <td>1000092795.jpg</td>\n      <td>4</td>\n      <td>Два друга наслаждаются временем, проведенным в...</td>\n    </tr>\n  </tbody>\n</table>\n</div>"
     },
     "execution_count": 68,
     "metadata": {},
     "output_type": "execute_result"
    }
   ],
   "source": [
    "path_captions = \"D:/YandexDisk/datasets/russian-flickr-30k-images-metadata.csv\"\n",
    "df = pd.read_csv(path_captions, delimiter='|')\n",
    "df.head(5)"
   ],
   "metadata": {
    "collapsed": false,
    "pycharm": {
     "name": "#%%\n"
    }
   }
  },
  {
   "cell_type": "markdown",
   "source": [
    "# Проверка\n",
    "\n",
    "– числа\n",
    "– кавычки\n",
    "– апострофы\n",
    "– удалить точки"
   ],
   "metadata": {
    "collapsed": false,
    "pycharm": {
     "name": "#%% md\n"
    }
   }
  },
  {
   "cell_type": "code",
   "execution_count": 3,
   "outputs": [],
   "source": [
    "def is_there_number(sentence):\n",
    "    for i in sentence.split():\n",
    "        if i.isdigit():\n",
    "            return True\n",
    "\n",
    "    return False"
   ],
   "metadata": {
    "collapsed": false,
    "pycharm": {
     "name": "#%%\n"
    }
   }
  },
  {
   "cell_type": "code",
   "execution_count": 4,
   "outputs": [
    {
     "name": "stdout",
     "output_type": "stream",
     "text": [
      "кол-во чисел ... 12\n"
     ]
    }
   ],
   "source": [
    "idxs_to_del = []\n",
    "\n",
    "for idx in df.index:\n",
    "    curr_str = df.iat[idx, 2]\n",
    "\n",
    "    if is_there_number(curr_str):\n",
    "        idxs_to_del.append(idx)\n",
    "    elif curr_str.find('\"') != -1:\n",
    "        idxs_to_del.append(idx)\n",
    "    elif curr_str.find(\"'\") != -1:\n",
    "        idxs_to_del.append(idx)\n",
    "\n",
    "    if curr_str.find('.') != -1:\n",
    "        df.iat[idx, 2] = curr_str.replace(\".\", \"\")"
   ],
   "metadata": {
    "collapsed": false,
    "pycharm": {
     "name": "#%%\n"
    }
   }
  },
  {
   "cell_type": "markdown",
   "source": [
    "## Сохранить"
   ],
   "metadata": {
    "collapsed": false,
    "pycharm": {
     "name": "#%% md\n"
    }
   }
  },
  {
   "cell_type": "code",
   "execution_count": 10,
   "outputs": [],
   "source": [
    "df.to_csv(\"D:/temp-russian-flickr-30k-images-metadata.csv\", sep='|', encoding='utf-8', index=False)"
   ],
   "metadata": {
    "collapsed": false,
    "pycharm": {
     "name": "#%%\n"
    }
   }
  },
  {
   "cell_type": "markdown",
   "source": [
    "## Удаление\n",
    "\n",
    "– числа\n",
    "– кавычки\n",
    "– апострофы"
   ],
   "metadata": {
    "collapsed": false
   }
  },
  {
   "cell_type": "code",
   "execution_count": 20,
   "outputs": [],
   "source": [
    "df_to_delete = df.loc[idxs_to_del, :]\n",
    "images_to_delete = df_to_delete[\"image_name\"].unique()"
   ],
   "metadata": {
    "collapsed": false,
    "pycharm": {
     "name": "#%%\n"
    }
   }
  },
  {
   "cell_type": "code",
   "execution_count": 22,
   "outputs": [
    {
     "data": {
      "text/plain": "170"
     },
     "execution_count": 22,
     "metadata": {},
     "output_type": "execute_result"
    }
   ],
   "source": [
    "len(images_to_delete)"
   ],
   "metadata": {
    "collapsed": false,
    "pycharm": {
     "name": "#%%\n"
    }
   }
  },
  {
   "cell_type": "code",
   "execution_count": 23,
   "outputs": [
    {
     "data": {
      "text/plain": "(80715, 3)"
     },
     "execution_count": 23,
     "metadata": {},
     "output_type": "execute_result"
    }
   ],
   "source": [
    "df.shape"
   ],
   "metadata": {
    "collapsed": false,
    "pycharm": {
     "name": "#%%\n"
    }
   }
  },
  {
   "cell_type": "code",
   "execution_count": 65,
   "outputs": [
    {
     "data": {
      "text/plain": "(79810, 3)"
     },
     "execution_count": 65,
     "metadata": {},
     "output_type": "execute_result"
    }
   ],
   "source": [
    "df = df[~df.image_name.isin(images_to_delete)]\n",
    "df.shape"
   ],
   "metadata": {
    "collapsed": false,
    "pycharm": {
     "name": "#%%\n"
    }
   }
  },
  {
   "cell_type": "markdown",
   "source": [
    "## Вывод исправлений"
   ],
   "metadata": {
    "collapsed": false
   }
  },
  {
   "cell_type": "code",
   "execution_count": 46,
   "outputs": [
    {
     "name": "stdout",
     "output_type": "stream",
     "text": [
      "Группа из трех мужчин и женщин наблюдает, как пожилой мужчина играет на гитаре в парке\n",
      "Изо всех сил стараюсь не спать на работе\n",
      "Женщина задувает свечи на своем праздничном торте за обеденным столом\n",
      "Два человека держат большой перевернутый земной шар\n",
      "Мужчина держит посох, одетый в этническую одежду\n",
      "Мужчина моет полы\n",
      "Пронумерованные участники на финише забега\n",
      "Участники забега начинают соревнование\n",
      "Люди участвуют в забеге\n",
      "Большая группа людей стоит вместе\n",
      "Женщина показывает своей умственно отсталой дочери фотографию на своем мобильном телефоне\n",
      "Группа людей выступает на сцене\n"
     ]
    }
   ],
   "source": [
    "print(df.iat[3261, 2])\n",
    "print(df.iat[5824, 2])\n",
    "print(df.iat[7170, 2])\n",
    "print(df.iat[9515, 2])\n",
    "print(df.iat[26518, 2])\n",
    "print(df.iat[46271, 2])\n",
    "print(df.iat[64792, 2])\n",
    "print(df.iat[64793, 2])\n",
    "print(df.iat[64794, 2])\n",
    "print(df.iat[73165, 2])\n",
    "print(df.iat[77492, 2])\n",
    "print(df.iat[78177, 2])"
   ],
   "metadata": {
    "collapsed": false,
    "pycharm": {
     "name": "#%%\n"
    }
   }
  },
  {
   "cell_type": "code",
   "execution_count": 85,
   "outputs": [
    {
     "name": "stdout",
     "output_type": "stream",
     "text": [
      "Старая машина с выцветшей краской и номерным знаком\n",
      "Два несчастных пожилых человека смотрели мимо камеры, мужчина с книгой в руках и женщина в шубе\n"
     ]
    }
   ],
   "source": [
    "print(df.iat[39002, 2])\n",
    "print(df.iat[43475, 2])"
   ],
   "metadata": {
    "collapsed": false,
    "pycharm": {
     "name": "#%%\n"
    }
   }
  }
 ],
 "metadata": {
  "kernelspec": {
   "display_name": "Python 3",
   "language": "python",
   "name": "python3"
  },
  "language_info": {
   "codemirror_mode": {
    "name": "ipython",
    "version": 2
   },
   "file_extension": ".py",
   "mimetype": "text/x-python",
   "name": "python",
   "nbconvert_exporter": "python",
   "pygments_lexer": "ipython2",
   "version": "2.7.6"
  }
 },
 "nbformat": 4,
 "nbformat_minor": 0
}