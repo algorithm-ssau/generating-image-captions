{
 "cells": [
  {
   "cell_type": "code",
   "execution_count": 1,
   "metadata": {
    "collapsed": true
   },
   "outputs": [],
   "source": [
    "import pandas as pd"
   ]
  },
  {
   "cell_type": "code",
   "execution_count": 2,
   "outputs": [
    {
     "data": {
      "text/plain": "       image_name   comment_number  \\\n0  1000092795.jpg                0   \n1  1000092795.jpg                1   \n2  1000092795.jpg                2   \n3  1000092795.jpg                3   \n4  1000092795.jpg                4   \n\n                                             comment  \n0  Два молодых парня с лохматыми волосами смотрят...  \n1  Два молодых белых самца находятся снаружи возл...  \n2      Двое мужчин в зеленых рубашках стоят во дворе  \n3            Мужчина в синей рубашке, стоящий в саду  \n4  Два друга наслаждаются временем, проведенным в...  ",
      "text/html": "<div>\n<style scoped>\n    .dataframe tbody tr th:only-of-type {\n        vertical-align: middle;\n    }\n\n    .dataframe tbody tr th {\n        vertical-align: top;\n    }\n\n    .dataframe thead th {\n        text-align: right;\n    }\n</style>\n<table border=\"1\" class=\"dataframe\">\n  <thead>\n    <tr style=\"text-align: right;\">\n      <th></th>\n      <th>image_name</th>\n      <th>comment_number</th>\n      <th>comment</th>\n    </tr>\n  </thead>\n  <tbody>\n    <tr>\n      <th>0</th>\n      <td>1000092795.jpg</td>\n      <td>0</td>\n      <td>Два молодых парня с лохматыми волосами смотрят...</td>\n    </tr>\n    <tr>\n      <th>1</th>\n      <td>1000092795.jpg</td>\n      <td>1</td>\n      <td>Два молодых белых самца находятся снаружи возл...</td>\n    </tr>\n    <tr>\n      <th>2</th>\n      <td>1000092795.jpg</td>\n      <td>2</td>\n      <td>Двое мужчин в зеленых рубашках стоят во дворе</td>\n    </tr>\n    <tr>\n      <th>3</th>\n      <td>1000092795.jpg</td>\n      <td>3</td>\n      <td>Мужчина в синей рубашке, стоящий в саду</td>\n    </tr>\n    <tr>\n      <th>4</th>\n      <td>1000092795.jpg</td>\n      <td>4</td>\n      <td>Два друга наслаждаются временем, проведенным в...</td>\n    </tr>\n  </tbody>\n</table>\n</div>"
     },
     "execution_count": 2,
     "metadata": {},
     "output_type": "execute_result"
    }
   ],
   "source": [
    "path_captions = \"D:/YandexDisk/datasets/russian-flickr-30k-images-metadata.csv\"\n",
    "df = pd.read_csv(path_captions, delimiter='|')\n",
    "df.head(5)"
   ],
   "metadata": {
    "collapsed": false,
    "pycharm": {
     "name": "#%%\n"
    }
   }
  },
  {
   "cell_type": "markdown",
   "source": [
    "# Проверка чисел"
   ],
   "metadata": {
    "collapsed": false,
    "pycharm": {
     "name": "#%% md\n"
    }
   }
  },
  {
   "cell_type": "code",
   "execution_count": 3,
   "outputs": [],
   "source": [
    "def is_there_number(sentence):\n",
    "    for i in sentence.split():\n",
    "        if i.isdigit():\n",
    "            return True\n",
    "\n",
    "    return False"
   ],
   "metadata": {
    "collapsed": false,
    "pycharm": {
     "name": "#%%\n"
    }
   }
  },
  {
   "cell_type": "code",
   "execution_count": 4,
   "outputs": [
    {
     "name": "stdout",
     "output_type": "stream",
     "text": [
      "кол-во чисел ... 12\n"
     ]
    }
   ],
   "source": [
    "counter_num = 0\n",
    "idxs_num = []\n",
    "\n",
    "for idx in df.index:\n",
    "    if is_there_number(df.iat[idx, 2]):\n",
    "        counter_num += 1\n",
    "        idxs_num.append(idx)\n",
    "\n",
    "print(\"кол-во чисел ... \" + str(counter_num))"
   ],
   "metadata": {
    "collapsed": false,
    "pycharm": {
     "name": "#%%\n"
    }
   }
  },
  {
   "cell_type": "code",
   "execution_count": 8,
   "outputs": [
    {
     "name": "stdout",
     "output_type": "stream",
     "text": [
      "78177\n"
     ]
    },
    {
     "data": {
      "text/plain": "'Группа людей выступает на сцене'"
     },
     "execution_count": 8,
     "metadata": {},
     "output_type": "execute_result"
    }
   ],
   "source": [
    "some_idx = idxs_num[11]\n",
    "print(some_idx)\n",
    "df.iat[some_idx, 2]"
   ],
   "metadata": {
    "collapsed": false,
    "pycharm": {
     "name": "#%%\n"
    }
   }
  },
  {
   "cell_type": "code",
   "execution_count": 9,
   "outputs": [],
   "source": [
    "df.iat[some_idx, 2] = 'Группа людей выступает на сцене'"
   ],
   "metadata": {
    "collapsed": false,
    "pycharm": {
     "name": "#%%\n"
    }
   }
  },
  {
   "cell_type": "code",
   "execution_count": 46,
   "outputs": [
    {
     "name": "stdout",
     "output_type": "stream",
     "text": [
      "Группа из трех мужчин и женщин наблюдает, как пожилой мужчина играет на гитаре в парке\n",
      "Изо всех сил стараюсь не спать на работе\n",
      "Женщина задувает свечи на своем праздничном торте за обеденным столом\n",
      "Два человека держат большой перевернутый земной шар\n",
      "Мужчина держит посох, одетый в этническую одежду\n",
      "Мужчина моет полы\n",
      "Пронумерованные участники на финише забега\n",
      "Участники забега начинают соревнование\n",
      "Люди участвуют в забеге\n",
      "Большая группа людей стоит вместе\n",
      "Женщина показывает своей умственно отсталой дочери фотографию на своем мобильном телефоне\n",
      "Группа людей выступает на сцене\n"
     ]
    }
   ],
   "source": [
    "print(df.iat[3261, 2])\n",
    "print(df.iat[5824, 2])\n",
    "print(df.iat[7170, 2])\n",
    "print(df.iat[9515, 2])\n",
    "print(df.iat[26518, 2])\n",
    "print(df.iat[46271, 2])\n",
    "print(df.iat[64792, 2])\n",
    "print(df.iat[64793, 2])\n",
    "print(df.iat[64794, 2])\n",
    "print(df.iat[73165, 2])\n",
    "print(df.iat[77492, 2])\n",
    "print(df.iat[78177, 2])"
   ],
   "metadata": {
    "collapsed": false,
    "pycharm": {
     "name": "#%%\n"
    }
   }
  },
  {
   "cell_type": "markdown",
   "source": [
    "## Сохранить"
   ],
   "metadata": {
    "collapsed": false,
    "pycharm": {
     "name": "#%% md\n"
    }
   }
  },
  {
   "cell_type": "code",
   "execution_count": 10,
   "outputs": [],
   "source": [
    "df.to_csv(\"D:/russian-flickr-30k-images-metadata-0.csv\", sep='|', encoding='utf-8', index=False)"
   ],
   "metadata": {
    "collapsed": false,
    "pycharm": {
     "name": "#%%\n"
    }
   }
  },
  {
   "cell_type": "markdown",
   "source": [
    "## Удалить изображения с кавычками"
   ],
   "metadata": {
    "collapsed": false,
    "pycharm": {
     "name": "#%% md\n"
    }
   }
  },
  {
   "cell_type": "code",
   "execution_count": 11,
   "outputs": [
    {
     "name": "stdout",
     "output_type": "stream",
     "text": [
      "кол-во кавычек ... 196\n"
     ]
    }
   ],
   "source": [
    "counter_num = 0\n",
    "idxs_quots = []\n",
    "\n",
    "for idx in df.index:\n",
    "    if df.iat[idx, 2].find('\"') != -1:\n",
    "        counter_num += 1\n",
    "        idxs_quots.append(idx)\n",
    "\n",
    "print(\"кол-во кавычек ... \" + str(counter_num))"
   ],
   "metadata": {
    "collapsed": false,
    "pycharm": {
     "name": "#%%\n"
    }
   }
  },
  {
   "cell_type": "code",
   "execution_count": 19,
   "outputs": [
    {
     "name": "stdout",
     "output_type": "stream",
     "text": [
      "64771\n"
     ]
    },
    {
     "data": {
      "text/plain": "'На этой нью-йоркской улице стоит \"мерседес\"'"
     },
     "execution_count": 19,
     "metadata": {},
     "output_type": "execute_result"
    }
   ],
   "source": [
    "some_idx = idxs_quots[155]\n",
    "print(some_idx)\n",
    "df.iat[some_idx, 2]"
   ],
   "metadata": {
    "collapsed": false,
    "pycharm": {
     "name": "#%%\n"
    }
   }
  },
  {
   "cell_type": "code",
   "execution_count": 20,
   "outputs": [],
   "source": [
    "df_to_delete = df.loc[idxs_quots, :]\n",
    "images_to_delete = df_to_delete[\"image_name\"].unique()"
   ],
   "metadata": {
    "collapsed": false,
    "pycharm": {
     "name": "#%%\n"
    }
   }
  },
  {
   "cell_type": "code",
   "execution_count": 21,
   "outputs": [
    {
     "data": {
      "text/plain": "(196, 3)"
     },
     "execution_count": 21,
     "metadata": {},
     "output_type": "execute_result"
    }
   ],
   "source": [
    "df_to_delete.shape"
   ],
   "metadata": {
    "collapsed": false,
    "pycharm": {
     "name": "#%%\n"
    }
   }
  },
  {
   "cell_type": "code",
   "execution_count": 22,
   "outputs": [
    {
     "data": {
      "text/plain": "170"
     },
     "execution_count": 22,
     "metadata": {},
     "output_type": "execute_result"
    }
   ],
   "source": [
    "len(images_to_delete)"
   ],
   "metadata": {
    "collapsed": false,
    "pycharm": {
     "name": "#%%\n"
    }
   }
  },
  {
   "cell_type": "code",
   "execution_count": 23,
   "outputs": [
    {
     "data": {
      "text/plain": "(80715, 3)"
     },
     "execution_count": 23,
     "metadata": {},
     "output_type": "execute_result"
    }
   ],
   "source": [
    "df.shape"
   ],
   "metadata": {
    "collapsed": false,
    "pycharm": {
     "name": "#%%\n"
    }
   }
  },
  {
   "cell_type": "code",
   "execution_count": 24,
   "outputs": [
    {
     "data": {
      "text/plain": "(79865, 3)"
     },
     "execution_count": 24,
     "metadata": {},
     "output_type": "execute_result"
    }
   ],
   "source": [
    "df = df[~df.image_name.isin(images_to_delete)]\n",
    "df.shape"
   ],
   "metadata": {
    "collapsed": false,
    "pycharm": {
     "name": "#%%\n"
    }
   }
  },
  {
   "cell_type": "markdown",
   "source": [
    "## Удалить точки"
   ],
   "metadata": {
    "collapsed": false,
    "pycharm": {
     "name": "#%% md\n"
    }
   }
  },
  {
   "cell_type": "code",
   "execution_count": 48,
   "outputs": [
    {
     "name": "stdout",
     "output_type": "stream",
     "text": [
      "кол-во точек ... 0\n"
     ]
    }
   ],
   "source": [
    "counter_num = 0\n",
    "idxs = []\n",
    "\n",
    "for idx in df.index:\n",
    "    if df.iat[idx, 2].find('.') != -1:\n",
    "        counter_num += 1\n",
    "        idxs.append(idx)\n",
    "\n",
    "print(\"кол-во точек ... \" + str(counter_num))"
   ],
   "metadata": {
    "collapsed": false,
    "pycharm": {
     "name": "#%%\n"
    }
   }
  },
  {
   "cell_type": "code",
   "execution_count": 46,
   "outputs": [
    {
     "name": "stdout",
     "output_type": "stream",
     "text": [
      "30527\n"
     ]
    },
    {
     "data": {
      "text/plain": "'Мужчина, мальчик и собака спускаются к океану.'"
     },
     "execution_count": 46,
     "metadata": {},
     "output_type": "execute_result"
    }
   ],
   "source": [
    "some_idx = idxs[111]\n",
    "print(some_idx)\n",
    "df.iat[some_idx, 2]"
   ],
   "metadata": {
    "collapsed": false,
    "pycharm": {
     "name": "#%%\n"
    }
   }
  },
  {
   "cell_type": "code",
   "execution_count": 47,
   "outputs": [],
   "source": [
    "for idx in df.index:\n",
    "    df.iat[idx, 2] = df.iat[idx, 2].replace(\".\", \"\")"
   ],
   "metadata": {
    "collapsed": false,
    "pycharm": {
     "name": "#%%\n"
    }
   }
  },
  {
   "cell_type": "markdown",
   "source": [
    "## Удалить изображения с апострофами"
   ],
   "metadata": {
    "collapsed": false,
    "pycharm": {
     "name": "#%% md\n"
    }
   }
  },
  {
   "cell_type": "code",
   "execution_count": 50,
   "outputs": [
    {
     "name": "stdout",
     "output_type": "stream",
     "text": [
      "кол-во апострофов ... 18\n"
     ]
    }
   ],
   "source": [
    "counter_num = 0\n",
    "idxs = []\n",
    "\n",
    "for idx in df.index:\n",
    "    if df.iat[idx, 2].find(\"'\") != -1:\n",
    "        counter_num += 1\n",
    "        idxs.append(idx)\n",
    "\n",
    "print(\"кол-во апострофов ... \" + str(counter_num))"
   ],
   "metadata": {
    "collapsed": false,
    "pycharm": {
     "name": "#%%\n"
    }
   }
  },
  {
   "cell_type": "code",
   "execution_count": 61,
   "outputs": [
    {
     "name": "stdout",
     "output_type": "stream",
     "text": [
      "30615\n"
     ]
    },
    {
     "data": {
      "text/plain": "\"Группа людей стоит ночью на городской улице, на заднем плане-уличные фонари и ресторан mcdonald's\""
     },
     "execution_count": 61,
     "metadata": {},
     "output_type": "execute_result"
    }
   ],
   "source": [
    "some_idx = idxs[11]\n",
    "print(some_idx)\n",
    "df.iat[some_idx, 2]"
   ],
   "metadata": {
    "collapsed": false,
    "pycharm": {
     "name": "#%%\n"
    }
   }
  },
  {
   "cell_type": "code",
   "execution_count": 62,
   "outputs": [
    {
     "data": {
      "text/plain": "(79865, 3)"
     },
     "execution_count": 62,
     "metadata": {},
     "output_type": "execute_result"
    }
   ],
   "source": [
    "df.shape"
   ],
   "metadata": {
    "collapsed": false,
    "pycharm": {
     "name": "#%%\n"
    }
   }
  },
  {
   "cell_type": "code",
   "execution_count": 64,
   "outputs": [],
   "source": [
    "df_to_delete = df.loc[idxs, :]\n",
    "images_to_delete = df_to_delete[\"image_name\"].unique()"
   ],
   "metadata": {
    "collapsed": false,
    "pycharm": {
     "name": "#%%\n"
    }
   }
  },
  {
   "cell_type": "code",
   "execution_count": 65,
   "outputs": [
    {
     "data": {
      "text/plain": "(79810, 3)"
     },
     "execution_count": 65,
     "metadata": {},
     "output_type": "execute_result"
    }
   ],
   "source": [
    "df = df[~df.image_name.isin(images_to_delete)]\n",
    "df.shape"
   ],
   "metadata": {
    "collapsed": false,
    "pycharm": {
     "name": "#%%\n"
    }
   }
  }
 ],
 "metadata": {
  "kernelspec": {
   "display_name": "Python 3",
   "language": "python",
   "name": "python3"
  },
  "language_info": {
   "codemirror_mode": {
    "name": "ipython",
    "version": 2
   },
   "file_extension": ".py",
   "mimetype": "text/x-python",
   "name": "python",
   "nbconvert_exporter": "python",
   "pygments_lexer": "ipython2",
   "version": "2.7.6"
  }
 },
 "nbformat": 4,
 "nbformat_minor": 0
}