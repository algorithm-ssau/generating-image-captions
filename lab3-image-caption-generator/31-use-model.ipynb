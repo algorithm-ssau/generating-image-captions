{
 "cells": [
  {
   "cell_type": "code",
   "execution_count": 2,
   "outputs": [],
   "source": [
    "from pickle import load\n",
    "\n",
    "from tensorflow.python.keras.models import load_model\n",
    "from tensorflow.python.keras.models import Model\n",
    "from tensorflow.python.keras.applications.vgg16 import VGG16\n",
    "from tensorflow.python.keras.applications.inception_v3 import InceptionV3\n",
    "\n",
    "from keras_preprocessing.image import load_img, img_to_array\n",
    "from keras.applications.vgg16 import preprocess_input as vgg16_preprocess\n",
    "from keras.applications.inception_v3 import preprocess_input as inception_preprocess\n",
    "\n",
    "from keras_preprocessing.sequence import pad_sequences\n",
    "from numpy import argmax\n",
    "\n",
    "from matplotlib import image as mpimg, pyplot as plt"
   ],
   "metadata": {
    "collapsed": false,
    "pycharm": {
     "name": "#%%\n"
    }
   }
  },
  {
   "cell_type": "code",
   "execution_count": 4,
   "outputs": [],
   "source": [
    "PATH_TOKENIZER = \"tokenizer.pkl\"\n",
    "PATH_VGG16 = \"bleu-0512229-vgg16.h5\"\n",
    "PATH_INCEPTION = \"bleu-0507810-inception.h5\"\n",
    "\n",
    "TOKENIZER = load(open(PATH_TOKENIZER, 'rb'))\n",
    "MAX_WORDS = 22\n",
    "\n",
    "VGG16_EXTRACTOR = VGG16(weights=\"imagenet\")\n",
    "VGG16_EXTRACTOR = Model(inputs=VGG16_EXTRACTOR.inputs, outputs=VGG16_EXTRACTOR.layers[-2].output)\n",
    "VGG16_TARGET_SIZE = 224\n",
    "VGG16_MODEL = load_model(PATH_VGG16)\n",
    "\n",
    "INCEPTION_EXTRACTOR = InceptionV3(weights=\"imagenet\")\n",
    "INCEPTION_EXTRACTOR = Model(inputs=INCEPTION_EXTRACTOR.inputs, outputs=INCEPTION_EXTRACTOR.layers[-2].output)\n",
    "INCEPTION_TARGET_SIZE = 299\n",
    "INCEPTION_MODEL = load_model(PATH_INCEPTION)"
   ],
   "metadata": {
    "collapsed": false,
    "pycharm": {
     "name": "#%%\n"
    }
   }
  },
  {
   "cell_type": "code",
   "execution_count": 5,
   "outputs": [],
   "source": [
    "def vgg16_extract(path_image):\n",
    "    image = load_img(path_image, target_size=(VGG16_TARGET_SIZE, VGG16_TARGET_SIZE))\n",
    "    image = img_to_array(image)\n",
    "    image = image.reshape((1, image.shape[0], image.shape[1], image.shape[2]))\n",
    "    image = vgg16_preprocess(image)\n",
    "\n",
    "    feature = VGG16_EXTRACTOR.predict(image, verbose=0)\n",
    "    return feature\n",
    "\n",
    "def inception_extract(path_image):\n",
    "    image = load_img(path_image, target_size=(INCEPTION_TARGET_SIZE, INCEPTION_TARGET_SIZE))\n",
    "    image = img_to_array(image)\n",
    "    image = image.reshape((1, image.shape[0], image.shape[1], image.shape[2]))\n",
    "    image = inception_preprocess(image)\n",
    "\n",
    "    feature = INCEPTION_EXTRACTOR.predict(image, verbose=0)\n",
    "    return feature\n",
    "\n",
    "def map_int_to_word(integer):\n",
    "    for word, idx in TOKENIZER.word_index.items():\n",
    "        if idx == integer:\n",
    "            return word\n",
    "\n",
    "    return None\n",
    "\n",
    "def generate_caption(model, image_features):\n",
    "    in_text = 'startseq'\n",
    "\n",
    "    for i in range(MAX_WORDS):\n",
    "        seq = TOKENIZER.texts_to_sequences([in_text])[0]\n",
    "        seq = pad_sequences([seq], maxlen=MAX_WORDS)\n",
    "\n",
    "        y_hat = model.predict([image_features,seq], verbose=0)\n",
    "        y_hat = argmax(y_hat)\n",
    "\n",
    "        word = map_int_to_word(y_hat)\n",
    "        if word is None:\n",
    "            break\n",
    "\n",
    "        in_text += ' ' + word\n",
    "\n",
    "        if word == 'endseq':\n",
    "            break\n",
    "\n",
    "    return in_text\n",
    "\n",
    "def vgg16_generate_and_print_caption(path_image):\n",
    "    image_features = vgg16_extract(path_image)\n",
    "    caption = generate_caption(VGG16_MODEL, image_features)\n",
    "    print(caption)\n",
    "\n",
    "def inception_generate_and_print_caption(path_image):\n",
    "    image_features = inception_extract(path_image)\n",
    "    caption = generate_caption(INCEPTION_MODEL, image_features)\n",
    "    print(caption)\n",
    "\n",
    "def print_image(path_image):\n",
    "    image = mpimg.imread(path_image)\n",
    "    plt.imshow(image)\n",
    "    plt.show()"
   ],
   "metadata": {
    "collapsed": false,
    "pycharm": {
     "name": "#%%\n"
    }
   }
  }
 ],
 "metadata": {
  "kernelspec": {
   "display_name": "Python 3",
   "language": "python",
   "name": "python3"
  },
  "language_info": {
   "codemirror_mode": {
    "name": "ipython",
    "version": 2
   },
   "file_extension": ".py",
   "mimetype": "text/x-python",
   "name": "python",
   "nbconvert_exporter": "python",
   "pygments_lexer": "ipython2",
   "version": "2.7.6"
  }
 },
 "nbformat": 4,
 "nbformat_minor": 0
}