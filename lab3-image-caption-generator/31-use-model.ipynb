{
 "cells": [
  {
   "cell_type": "code",
   "execution_count": 2,
   "outputs": [],
   "source": [
    "from pickle import load\n",
    "\n",
    "from tensorflow.python.keras.models import load_model\n",
    "from tensorflow.python.keras.models import Model\n",
    "from tensorflow.python.keras.applications.vgg16 import VGG16\n",
    "from tensorflow.python.keras.applications.inception_v3 import InceptionV3\n",
    "\n",
    "from keras_preprocessing.image import load_img, img_to_array\n",
    "from keras.applications.vgg16 import preprocess_input as vgg16_preprocess\n",
    "from keras.applications.inception_v3 import preprocess_input as inception_preprocess\n",
    "\n",
    "from keras_preprocessing.sequence import pad_sequences\n",
    "from numpy import argmax\n",
    "\n",
    "from matplotlib import image as mpimg, pyplot as plt"
   ],
   "metadata": {
    "collapsed": false,
    "pycharm": {
     "name": "#%%\n"
    }
   }
  },
  {
   "cell_type": "code",
   "execution_count": 4,
   "outputs": [],
   "source": [
    "PATH_TOKENIZER = \"tokenizer.pkl\"\n",
    "PATH_VGG16 = \"bleu-0512229-vgg16.h5\"\n",
    "PATH_INCEPTION = \"bleu-0507810-inception.h5\"\n",
    "\n",
    "TOKENIZER = load(open(PATH_TOKENIZER, 'rb'))\n",
    "MAX_WORDS = 22\n",
    "\n",
    "VGG16_EXTRACTOR = VGG16(weights=\"imagenet\")\n",
    "VGG16_EXTRACTOR = Model(inputs=VGG16_EXTRACTOR.inputs, outputs=VGG16_EXTRACTOR.layers[-2].output)\n",
    "VGG16_TARGET_SIZE = 224\n",
    "VGG16_MODEL = load_model(PATH_VGG16)\n",
    "\n",
    "INCEPTION_EXTRACTOR = InceptionV3(weights=\"imagenet\")\n",
    "INCEPTION_EXTRACTOR = Model(inputs=INCEPTION_EXTRACTOR.inputs, outputs=INCEPTION_EXTRACTOR.layers[-2].output)\n",
    "INCEPTION_TARGET_SIZE = 299\n",
    "INCEPTION_MODEL = load_model(PATH_INCEPTION)"
   ],
   "metadata": {
    "collapsed": false,
    "pycharm": {
     "name": "#%%\n"
    }
   }
  }
 ],
 "metadata": {
  "kernelspec": {
   "display_name": "Python 3",
   "language": "python",
   "name": "python3"
  },
  "language_info": {
   "codemirror_mode": {
    "name": "ipython",
    "version": 2
   },
   "file_extension": ".py",
   "mimetype": "text/x-python",
   "name": "python",
   "nbconvert_exporter": "python",
   "pygments_lexer": "ipython2",
   "version": "2.7.6"
  }
 },
 "nbformat": 4,
 "nbformat_minor": 0
}